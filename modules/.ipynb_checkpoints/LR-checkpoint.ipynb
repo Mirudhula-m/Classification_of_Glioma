{
 "cells": [
  {
   "cell_type": "code",
   "execution_count": 1,
   "id": "e2c58f2c",
   "metadata": {},
   "outputs": [],
   "source": [
    "#Using Labels for only top 300 genes implicated for training\n",
    "#All files needed are in output Folder\n",
    "#All are TPM Values"
   ]
  },
  {
   "cell_type": "code",
   "execution_count": 2,
   "id": "01649f30",
   "metadata": {},
   "outputs": [],
   "source": [
    "import pandas as pd\n",
    "import numpy as np\n",
    "from sklearn.model_selection import train_test_split\n",
    "from sklearn.preprocessing import StandardScaler\n",
    "from sklearn.decomposition import PCA\n",
    "from sklearn.manifold import TSNE\n",
    "from sklearn.svm import SVC\n",
    "from sklearn.metrics import classification_report, confusion_matrix\n",
    "import seaborn as sns\n",
    "import random\n",
    "from sklearn.linear_model import LogisticRegression\n",
    "from sklearn.metrics import classification_report, confusion_matrix\n",
    "from sklearn.model_selection import cross_validate\n",
    "from sklearn import datasets, metrics,linear_model,preprocessing,model_selection\n",
    "from sklearn.model_selection import KFold"
   ]
  },
  {
   "cell_type": "code",
   "execution_count": 3,
   "id": "cfe41695",
   "metadata": {},
   "outputs": [],
   "source": [
    "#Multiclass - distinguish between all three types\n",
    "\n",
    "class LogisticRegression1:\n",
    "    \n",
    "    #Initialize\n",
    "    def __init__(self):\n",
    "        self.int = {}\n",
    "        \n",
    "    #Mean centre to standardise the data\n",
    "#     def mean_centre(self, X_train):\n",
    "#         return X_train-X_train.mean()\n",
    "   \n",
    "    #Sigmoid function - The Sigmoid Function transforms all its inputs between 0 and 1 \n",
    "    def sigmoid(self, z):\n",
    "        return 1.0/(1.0+np.exp(-z))\n",
    "        \n",
    "    #Hypothesis function -  It  limits the cost function between 0 and 1\n",
    "    def hyp(self,X,theta):\n",
    "        return self.sigmoid(np.dot(theta.T,X)) #61* 61*575\n",
    "    \n",
    "    #Feature_init adds a column of ones to our feature matrix\n",
    "    def feature_init(self, X):\n",
    "        return np.c_[np.ones((np.shape(X)[0],1)),X]\n",
    "    \n",
    "    def random(self, X, Y):\n",
    "        rand=random.randrange(X.shape[0])\n",
    "        x=X[rand]\n",
    "        y=Y[rand] \n",
    "        return x, y\n",
    "\n",
    "    #Gradient Descent updates the theta\n",
    "    def gradient_descent(self, X, Y, alpha, iterations, lamb):\n",
    "        X1=self.feature_init(X)\n",
    "        #Initialize the parameters to 0\n",
    "        theta=np.zeros(X1.shape[1]) \n",
    "        for i in range(iterations):\n",
    "            x, y =self.random(X1, Y)\n",
    "            h_x=self.hyp(x.T,theta)\n",
    "            \n",
    "            weights=np.zeros(x.shape[0])\n",
    "            \n",
    "            for j in range(x.shape[0]):                  \n",
    "                weights[j]= np.dot(x[j], h_x-y) #+ 2*lamb*theta[j]\n",
    "            \n",
    "            L2=1-alpha*lamb/X.shape[1]\n",
    "            theta=theta*L2 -(alpha*weights/X.shape[1])\n",
    "            #theta=theta-alpha*weights\n",
    "                \n",
    "        #return theta(1-(alpha*lamb/X.shape[0]))-(alpha*weights/X.shape[0])\n",
    "        #return theta*L2 -(alpha*weights/X.shape[1])\n",
    "        return theta\n",
    "        \n",
    "\n",
    "    def fit(self, X, Y):\n",
    "        #X=self.mean_centre(X)\n",
    "        all_theta={}\n",
    "        alpha=1.25\n",
    "        iterations=10000\n",
    "        lamb=0.01\n",
    "        #Multiclass - Set one class to 1 and all others to 0\n",
    "        glioma=np.unique(Y)\n",
    "        for glioma_type in glioma:\n",
    "            Y1=Y.copy() \n",
    "            Y1=np.where(Y1==glioma_type, 1, 0)\n",
    "            theta=self.gradient_descent(X, Y1, alpha, iterations, lamb)\n",
    "            all_theta.update({glioma_type:theta})   \n",
    "        self.int=all_theta\n",
    "\n",
    "    def predict(self,X):\n",
    "        #X=self.mean_centre(X)\n",
    "        X=self.feature_init(X) #575*60+1\n",
    "        Y=[]\n",
    "        h_x_list=[]      \n",
    "        glioma=[]\n",
    "        \n",
    "        for glioma_type,theta in self.int.items():                  \n",
    "            h_x_list.append(self.hyp(X.T,theta)) #61*575\n",
    "            glioma.append(glioma_type)\n",
    "        \n",
    "        temp_df = pd.DataFrame(h_x_list).T\n",
    "        temp_df['y_pred'] = temp_df.apply(lambda x: glioma[np.argmax(x)], axis = 1)\n",
    "        #Y=np.apply_along_axis(lambda x:glioma[np.argmax(x)],0,h_x_list)\n",
    "        return temp_df['y_pred'].to_numpy()\n",
    "        #return Y\n",
    "    "
   ]
  },
  {
   "cell_type": "code",
   "execution_count": 4,
   "id": "344cedae",
   "metadata": {},
   "outputs": [],
   "source": [
    "def cross_valid(estimator,X,y):\n",
    "    master_dict = {'accuracy':[],'precision':[],'recall':[],'f1':[]}\n",
    "    kf = KFold()\n",
    "    for train_index, test_index in kf.split(X):\n",
    "        X_train, X_test = X[train_index], X[test_index]\n",
    "        y_train, y_test = y[train_index], y[test_index]\n",
    "        model = estimator\n",
    "        model.fit(X_train, y_train)\n",
    "        y_pred = model.predict(X_test)\n",
    "        report = classification_report(y_test,y_pred,output_dict=True)\n",
    "        master_dict['accuracy'].append(report['accuracy'])\n",
    "        master_dict['precision'].append(report['macro avg']['precision'])\n",
    "        master_dict['recall'].append(report['macro avg']['recall'])\n",
    "        master_dict['f1'].append(report['macro avg']['f1-score'])\n",
    "    return master_dict"
   ]
  },
  {
   "cell_type": "markdown",
   "id": "7beaa35d",
   "metadata": {},
   "source": [
    "# Reading All the Files"
   ]
  },
  {
   "cell_type": "code",
   "execution_count": null,
   "id": "4ee5e9bd",
   "metadata": {},
   "outputs": [],
   "source": [
    "labeldf = pd.read_csv(\"./output/label2.txt\",index_col=0)\n",
    "data_df = pd.read_csv(\"./output/raw_counts_TPM_300.txt\",index_col=0)\n",
    "normal_df = pd.read_csv(\"./output/normaldata_log2_60k.txt\",index_col=0)"
   ]
  },
  {
   "cell_type": "markdown",
   "id": "5747464e",
   "metadata": {},
   "source": [
    "### Log2 of data_gene_expression -> better results"
   ]
  },
  {
   "cell_type": "code",
   "execution_count": null,
   "id": "0d898e9e",
   "metadata": {},
   "outputs": [],
   "source": [
    "data_df = data_df.apply(lambda x: np.log2(x+0.001), axis = 1)"
   ]
  },
  {
   "cell_type": "markdown",
   "id": "d141c2fd",
   "metadata": {},
   "source": [
    "### Getting top 300 genes of normal_controls"
   ]
  },
  {
   "cell_type": "code",
   "execution_count": null,
   "id": "20e383ba",
   "metadata": {},
   "outputs": [],
   "source": [
    "all_cols = normal_df.columns\n",
    "all_cols = [x.split(\".\")[0] for x in all_cols]\n",
    "normal_df.columns = all_cols\n",
    "selected_cols = data_df.columns\n",
    "normal_df_top_300 = normal_df[selected_cols]"
   ]
  },
  {
   "cell_type": "markdown",
   "id": "b5df29db",
   "metadata": {},
   "source": [
    "#### Sampling 500 controls"
   ]
  },
  {
   "cell_type": "code",
   "execution_count": null,
   "id": "4130c2c0",
   "metadata": {},
   "outputs": [],
   "source": [
    "normal_df_selected = normal_df_top_300.iloc[:500]"
   ]
  },
  {
   "cell_type": "code",
   "execution_count": null,
   "id": "4b0af691",
   "metadata": {},
   "outputs": [],
   "source": [
    "normal_df_selected1= normal_df_top_300.iloc[:200]"
   ]
  },
  {
   "cell_type": "markdown",
   "id": "47eccad0",
   "metadata": {},
   "source": [
    "# Glioblastoma vs Astrocytoma vs Oligodendroglioma"
   ]
  },
  {
   "cell_type": "code",
   "execution_count": null,
   "id": "e9edde99",
   "metadata": {},
   "outputs": [],
   "source": [
    "#Order of rows in labels and data_df should be the same"
   ]
  },
  {
   "cell_type": "code",
   "execution_count": null,
   "id": "a77b4cc9",
   "metadata": {},
   "outputs": [],
   "source": [
    "data_df = data_df.loc[labeldf['File Name']]"
   ]
  },
  {
   "cell_type": "markdown",
   "id": "225de20b",
   "metadata": {},
   "source": [
    "##### After checking that order of index of gene expression and order of first column of labels is same we proceed"
   ]
  },
  {
   "cell_type": "code",
   "execution_count": null,
   "id": "f0c4de64",
   "metadata": {},
   "outputs": [],
   "source": [
    "X = data_df\n",
    "y = labeldf['labelf']"
   ]
  },
  {
   "cell_type": "code",
   "execution_count": null,
   "id": "db20f4e6",
   "metadata": {},
   "outputs": [],
   "source": [
    "#Standard Scaler for better performance of PCA\n",
    "scaler = StandardScaler()\n",
    "X_sc = scaler.fit_transform(X)"
   ]
  },
  {
   "cell_type": "code",
   "execution_count": null,
   "id": "60af48ca",
   "metadata": {
    "scrolled": true
   },
   "outputs": [],
   "source": [
    "#PCA\n",
    "pca = PCA(n_components=60)\n",
    "X_pca = pca.fit_transform(X_sc)\n",
    "df = pd.DataFrame()\n",
    "df[\"y\"] = y\n",
    "df[\"comp-1\"] = X_pca[:,0]\n",
    "df[\"comp-2\"] = X_pca[:,1]\n",
    "sns.scatterplot(x=\"comp-1\", y=\"comp-2\", hue=df.y.tolist(),\n",
    "                palette=sns.color_palette(\"hls\",3 ),\n",
    "                data=df).set(title=\"PCA\") "
   ]
  },
  {
   "cell_type": "code",
   "execution_count": null,
   "id": "37ed684a",
   "metadata": {},
   "outputs": [],
   "source": [
    "#TSNE -> peformed on PCA Dataset\n",
    "tsne = TSNE(n_components=3, verbose=1, random_state=123)\n",
    "z = tsne.fit_transform(X_pca)\n",
    "df = pd.DataFrame()\n",
    "df[\"y\"] = y\n",
    "df[\"comp-1\"] = z[:,0]\n",
    "df[\"comp-2\"] = z[:,1]\n",
    "sns.scatterplot(x=\"comp-1\", y=\"comp-2\", hue=df.y.tolist(),\n",
    "                palette=sns.color_palette(\"hls\",3 ),\n",
    "                data=df).set(title=\"TSNE\") \n"
   ]
  },
  {
   "cell_type": "code",
   "execution_count": null,
   "id": "a2248786",
   "metadata": {},
   "outputs": [],
   "source": [
    "X = X_pca \n",
    "result = cross_valid(LogisticRegression1(),X,y=y)\n",
    "print(\"Accuracy = {}\".format(np.mean(result['accuracy'])))\n",
    "print(\"Precision = {}\".format(np.mean(result['precision'])))\n",
    "print(\"Recall = {}\".format(np.mean(result['recall'])))\n",
    "print(\"F1 = {}\".format(np.mean(result['f1'])))"
   ]
  },
  {
   "cell_type": "code",
   "execution_count": null,
   "id": "e6834676",
   "metadata": {},
   "outputs": [],
   "source": [
    "from sklearn.linear_model import LogisticRegression\n",
    "lr = LogisticRegression()\n",
    "lr.fit(X_pca , y)"
   ]
  },
  {
   "cell_type": "code",
   "execution_count": null,
   "id": "7d2e9ead",
   "metadata": {},
   "outputs": [],
   "source": [
    "cv = cross_validate(estimator=lr,X=X_pca,y=y,cv=5,scoring=['accuracy','precision_micro','recall_micro','f1_micro'],return_estimator=True,)\n",
    "print('Mean Accuracy = {}'.format(cv['test_accuracy'].mean()))\n",
    "print('Mean Precision = {}'.format(cv['test_precision_micro'].mean()))\n",
    "print('Mean Recall = {}'.format(cv['test_recall_micro'].mean()))\n",
    "print('Mean F1 = {}'.format(cv['test_f1_micro'].mean()))"
   ]
  },
  {
   "cell_type": "markdown",
   "id": "23595d4d",
   "metadata": {},
   "source": [
    "# Glioblastoma vs (A + O)"
   ]
  },
  {
   "cell_type": "code",
   "execution_count": null,
   "id": "7171b4aa",
   "metadata": {},
   "outputs": [],
   "source": [
    "mapping = {'Glioblastoma':'Glioblastoma','Normal':'Normal','Astrocytoma':'A+O','Oligodendroglioma':'A+O'}"
   ]
  },
  {
   "cell_type": "code",
   "execution_count": null,
   "id": "3ea4a08f",
   "metadata": {},
   "outputs": [],
   "source": [
    "labeldf_2 = labeldf.copy()\n",
    "labeldf_2['labelf'] = labeldf_2['labelf'].apply(lambda x: mapping[x])"
   ]
  },
  {
   "cell_type": "code",
   "execution_count": null,
   "id": "b08819fc",
   "metadata": {},
   "outputs": [],
   "source": [
    "data_df = data_df.loc[labeldf_2['File Name']]"
   ]
  },
  {
   "cell_type": "code",
   "execution_count": null,
   "id": "a4e72d58",
   "metadata": {},
   "outputs": [],
   "source": [
    "X = data_df\n",
    "y = labeldf_2['labelf']"
   ]
  },
  {
   "cell_type": "code",
   "execution_count": null,
   "id": "25396510",
   "metadata": {},
   "outputs": [],
   "source": [
    "#Standard Scaler for better performance of PCA\n",
    "scaler = StandardScaler()\n",
    "X_sc = scaler.fit_transform(X)"
   ]
  },
  {
   "cell_type": "code",
   "execution_count": null,
   "id": "a733ff6f",
   "metadata": {},
   "outputs": [],
   "source": [
    "#PCA\n",
    "pca = PCA(n_components=60)\n",
    "X_pca = pca.fit_transform(X_sc)\n",
    "df = pd.DataFrame()\n",
    "df[\"y\"] = y\n",
    "df[\"comp-1\"] = X_pca[:,0]\n",
    "df[\"comp-2\"] = X_pca[:,1]\n",
    "sns.scatterplot(x=\"comp-1\", y=\"comp-2\", hue=df.y.tolist(),\n",
    "                palette=sns.color_palette(\"hls\",2 ),\n",
    "                data=df).set(title=\"PCA\") "
   ]
  },
  {
   "cell_type": "code",
   "execution_count": null,
   "id": "5bfc2c62",
   "metadata": {},
   "outputs": [],
   "source": [
    "#TSNE -> peformed on PCA Dataset\n",
    "tsne = TSNE(n_components=3, verbose=1, random_state=123)\n",
    "z = tsne.fit_transform(X_pca)\n",
    "df = pd.DataFrame()\n",
    "df[\"y\"] = y\n",
    "df[\"comp-1\"] = z[:,0]\n",
    "df[\"comp-2\"] = z[:,1]\n",
    "sns.scatterplot(x=\"comp-1\", y=\"comp-2\", hue=df.y.tolist(),\n",
    "                palette=sns.color_palette(\"hls\",2 ),\n",
    "                data=df).set(title=\"TSNE\") \n"
   ]
  },
  {
   "cell_type": "code",
   "execution_count": null,
   "id": "2968dd26",
   "metadata": {},
   "outputs": [],
   "source": [
    "X = X_pca\n",
    "result = cross_valid(LogisticRegression1(),X,y=y)\n",
    "print(\"Mean Accuracy = {}\".format(np.mean(result['accuracy'])))\n",
    "print(\"Mean Precision = {}\".format(np.mean(result['precision'])))\n",
    "print(\"Mean Recall = {}\".format(np.mean(result['recall'])))\n",
    "print(\"Mean F1 = {}\".format(np.mean(result['f1'])))"
   ]
  },
  {
   "cell_type": "code",
   "execution_count": null,
   "id": "1ac0ef88",
   "metadata": {},
   "outputs": [],
   "source": [
    "lr = LogisticRegression()\n",
    "cv = cross_validate(estimator=lr,X=X_pca,y=y,cv=5,scoring=['accuracy','precision_micro','recall_micro','f1_micro'],return_estimator=True,)\n",
    "print('Mean Accuracy = {}'.format(cv['test_accuracy'].mean()))\n",
    "print('Mean Precision = {}'.format(cv['test_precision_micro'].mean()))\n",
    "print('Mean Recall = {}'.format(cv['test_recall_micro'].mean()))\n",
    "print('Mean F1 = {}'.format(cv['test_f1_micro'].mean()))"
   ]
  },
  {
   "cell_type": "markdown",
   "id": "da09662e",
   "metadata": {},
   "source": [
    "# Glioblastoma vs Astrocytoma vs Oligodendroglioma vs Normal"
   ]
  },
  {
   "cell_type": "code",
   "execution_count": null,
   "id": "f65f2864",
   "metadata": {},
   "outputs": [],
   "source": [
    "data_all = pd.concat([data_df,normal_df_selected1])"
   ]
  },
  {
   "cell_type": "code",
   "execution_count": null,
   "id": "9fef3dac",
   "metadata": {},
   "outputs": [],
   "source": [
    "#Making normal labels and adding it to labels\n",
    "norm_lab = [(x,'Normal') for x in normal_df_selected1.index]\n",
    "norm_lab_df = pd.DataFrame(norm_lab, columns=['File Name','labelf'])\n",
    "labeldf_3 = pd.concat([labeldf,norm_lab_df]).reset_index(drop = True)"
   ]
  },
  {
   "cell_type": "code",
   "execution_count": null,
   "id": "85ae8296",
   "metadata": {},
   "outputs": [],
   "source": [
    "data_all = data_all.loc[labeldf_3['File Name']] # making sure the order is correct"
   ]
  },
  {
   "cell_type": "code",
   "execution_count": null,
   "id": "74da2b9e",
   "metadata": {},
   "outputs": [],
   "source": [
    "X = data_all\n",
    "y = labeldf_3['labelf']"
   ]
  },
  {
   "cell_type": "code",
   "execution_count": null,
   "id": "fca69d60",
   "metadata": {},
   "outputs": [],
   "source": [
    "#Standard Scaler for better performance of PCA\n",
    "scaler = StandardScaler()\n",
    "X_sc = scaler.fit_transform(X)"
   ]
  },
  {
   "cell_type": "code",
   "execution_count": null,
   "id": "542d90e2",
   "metadata": {},
   "outputs": [],
   "source": [
    "#PCA\n",
    "pca = PCA(n_components=60)\n",
    "X_pca = pca.fit_transform(X_sc)\n",
    "df = pd.DataFrame()\n",
    "df[\"y\"] = y\n",
    "df[\"comp-1\"] = X_pca[:,0]\n",
    "df[\"comp-2\"] = X_pca[:,1]\n",
    "sns.scatterplot(x=\"comp-1\", y=\"comp-2\", hue=df.y.tolist(),\n",
    "                palette=sns.color_palette(\"hls\",4 ),\n",
    "                data=df).set(title=\"PCA\") "
   ]
  },
  {
   "cell_type": "code",
   "execution_count": null,
   "id": "279abc91",
   "metadata": {},
   "outputs": [],
   "source": [
    "#TSNE -> peformed on PCA Dataset\n",
    "tsne = TSNE(n_components=3, verbose=1, random_state=123)\n",
    "z = tsne.fit_transform(X_pca)\n",
    "df = pd.DataFrame()\n",
    "df[\"y\"] = y\n",
    "df[\"comp-1\"] = z[:,0]\n",
    "df[\"comp-2\"] = z[:,1]\n",
    "sns.scatterplot(x=\"comp-1\", y=\"comp-2\", hue=df.y.tolist(),\n",
    "                palette=sns.color_palette(\"hls\",4 ),\n",
    "                data=df).set(title=\"TSNE\") \n"
   ]
  },
  {
   "cell_type": "code",
   "execution_count": null,
   "id": "74e04362",
   "metadata": {},
   "outputs": [],
   "source": [
    "X = X_pca\n",
    "result = cross_valid(LogisticRegression1(),X,y=y)\n",
    "print(\"Mean Accuracy = {}\".format(np.mean(result['accuracy'])))\n",
    "print(\"Mean Precision = {}\".format(np.mean(result['precision'])))\n",
    "print(\"Mean Recall = {}\".format(np.mean(result['recall'])))\n",
    "print(\"Mean F1 = {}\".format(np.mean(result['f1'])))\n"
   ]
  },
  {
   "cell_type": "code",
   "execution_count": null,
   "id": "832a7b47",
   "metadata": {},
   "outputs": [],
   "source": [
    "lr = LogisticRegression()\n",
    "cv = cross_validate(estimator=lr,X=X_pca,y=y,cv=5,scoring=['accuracy','precision_micro','recall_micro','f1_micro'],return_estimator=True,)\n",
    "print('Mean Accuracy = {}'.format(cv['test_accuracy'].mean()))\n",
    "print('Mean Precision = {}'.format(cv['test_precision_micro'].mean()))\n",
    "print('Mean Recall = {}'.format(cv['test_recall_micro'].mean()))\n",
    "print('Mean F1 = {}'.format(cv['test_f1_micro'].mean()))"
   ]
  },
  {
   "cell_type": "markdown",
   "id": "6f4117f6",
   "metadata": {},
   "source": [
    "# Glioblastoma vs (A+O) vs Normal"
   ]
  },
  {
   "cell_type": "code",
   "execution_count": null,
   "id": "0fa9f84a",
   "metadata": {},
   "outputs": [],
   "source": [
    "labeldf_4 = pd.concat([labeldf_2,norm_lab_df]).reset_index(drop = True) #merging G vs (A+O) with Normal"
   ]
  },
  {
   "cell_type": "code",
   "execution_count": null,
   "id": "7ac73bfa",
   "metadata": {},
   "outputs": [],
   "source": [
    "data_all = data_all.loc[labeldf_4['File Name']]"
   ]
  },
  {
   "cell_type": "code",
   "execution_count": null,
   "id": "8173dbee",
   "metadata": {},
   "outputs": [],
   "source": [
    "X = data_all\n",
    "y = labeldf_4['labelf']"
   ]
  },
  {
   "cell_type": "code",
   "execution_count": null,
   "id": "7dfee6d1",
   "metadata": {},
   "outputs": [],
   "source": [
    "#Standard Scaler for better performance of PCA\n",
    "scaler = StandardScaler()\n",
    "X_sc = scaler.fit_transform(X)"
   ]
  },
  {
   "cell_type": "code",
   "execution_count": null,
   "id": "931a706f",
   "metadata": {},
   "outputs": [],
   "source": [
    "#PCA\n",
    "pca = PCA(n_components=60)\n",
    "X_pca = pca.fit_transform(X_sc)\n",
    "df = pd.DataFrame()\n",
    "df[\"y\"] = y\n",
    "df[\"comp-1\"] = X_pca[:,0]\n",
    "df[\"comp-2\"] = X_pca[:,1]\n",
    "sns.scatterplot(x=\"comp-1\", y=\"comp-2\", hue=df.y.tolist(),\n",
    "                palette=sns.color_palette(\"hls\",3 ),\n",
    "                data=df).set(title=\"PCA\") "
   ]
  },
  {
   "cell_type": "code",
   "execution_count": null,
   "id": "da2661c5",
   "metadata": {},
   "outputs": [],
   "source": [
    "#TSNE -> peformed on PCA Dataset\n",
    "tsne = TSNE(n_components=3, verbose=1, random_state=123)\n",
    "z = tsne.fit_transform(X_pca)\n",
    "df = pd.DataFrame()\n",
    "df[\"y\"] = y\n",
    "df[\"comp-1\"] = z[:,0]\n",
    "df[\"comp-2\"] = z[:,1]\n",
    "sns.scatterplot(x=\"comp-1\", y=\"comp-2\", hue=df.y.tolist(),\n",
    "                palette=sns.color_palette(\"hls\",3 ),\n",
    "                data=df).set(title=\"TSNE\") \n"
   ]
  },
  {
   "cell_type": "code",
   "execution_count": null,
   "id": "43bd849c",
   "metadata": {},
   "outputs": [],
   "source": [
    "X = X_pca\n",
    "result = cross_valid(LogisticRegression1(),X,y=y)\n",
    "print(\"Mean Accuracy = {}\".format(np.mean(result['accuracy'])))\n",
    "print(\"Mean Precision = {}\".format(np.mean(result['precision'])))\n",
    "print(\"Mean Recall = {}\".format(np.mean(result['recall'])))\n",
    "print(\"Mean F1 = {}\".format(np.mean(result['f1'])))"
   ]
  },
  {
   "cell_type": "code",
   "execution_count": null,
   "id": "1d368ca5",
   "metadata": {},
   "outputs": [],
   "source": [
    "lr = LogisticRegression()\n",
    "cv = cross_validate(estimator=lr,X=X_pca,y=y,cv=5,scoring=['accuracy','precision_micro','recall_micro','f1_micro'],return_estimator=True,)\n",
    "print('Mean Accuracy = {}'.format(cv['test_accuracy'].mean()))\n",
    "print('Mean Precision = {}'.format(cv['test_precision_micro'].mean()))\n",
    "print('Mean Recall = {}'.format(cv['test_recall_micro'].mean()))\n",
    "print('Mean F1 = {}'.format(cv['test_f1_micro'].mean()))"
   ]
  },
  {
   "cell_type": "markdown",
   "id": "7fc98cbc",
   "metadata": {},
   "source": [
    "# All vs Normal"
   ]
  },
  {
   "cell_type": "code",
   "execution_count": null,
   "id": "8aa5d8e4",
   "metadata": {},
   "outputs": [],
   "source": [
    "mapping = {'Glioblastoma':'Glioma','Normal':'Normal','Astrocytoma':'Glioma','Oligodendroglioma':'Glioma'}"
   ]
  },
  {
   "cell_type": "code",
   "execution_count": null,
   "id": "50a53670",
   "metadata": {},
   "outputs": [],
   "source": [
    "labeldf_5 = labeldf_3.copy()\n",
    "labeldf_5['labelf'] = labeldf_5['labelf'].apply(lambda x: mapping[x])"
   ]
  },
  {
   "cell_type": "code",
   "execution_count": null,
   "id": "34a266b2",
   "metadata": {},
   "outputs": [],
   "source": [
    "data_all = data_all.loc[labeldf_5['File Name']]"
   ]
  },
  {
   "cell_type": "code",
   "execution_count": null,
   "id": "f2249c19",
   "metadata": {},
   "outputs": [],
   "source": [
    "X = data_all\n",
    "y = labeldf_5['labelf']"
   ]
  },
  {
   "cell_type": "code",
   "execution_count": null,
   "id": "b2fcac3e",
   "metadata": {},
   "outputs": [],
   "source": [
    "#Standard Scaler for better performance of PCA\n",
    "scaler = StandardScaler()\n",
    "X_sc = scaler.fit_transform(X)"
   ]
  },
  {
   "cell_type": "code",
   "execution_count": null,
   "id": "5e4c663a",
   "metadata": {},
   "outputs": [],
   "source": [
    "#PCA\n",
    "pca = PCA(n_components=60)\n",
    "X_pca = pca.fit_transform(X_sc)\n",
    "df = pd.DataFrame()\n",
    "df[\"y\"] = y\n",
    "df[\"comp-1\"] = X_pca[:,0]\n",
    "df[\"comp-2\"] = X_pca[:,1]\n",
    "sns.scatterplot(x=\"comp-1\", y=\"comp-2\", hue=df.y.tolist(),\n",
    "                palette=sns.color_palette(\"hls\",2 ),\n",
    "                data=df).set(title=\"PCA\") "
   ]
  },
  {
   "cell_type": "code",
   "execution_count": null,
   "id": "b3a7de6e",
   "metadata": {},
   "outputs": [],
   "source": [
    "#TSNE -> peformed on PCA Dataset\n",
    "tsne = TSNE(n_components=3, verbose=1, random_state=123)\n",
    "z = tsne.fit_transform(X_pca)\n",
    "df = pd.DataFrame()\n",
    "df[\"y\"] = y\n",
    "df[\"comp-1\"] = z[:,0]\n",
    "df[\"comp-2\"] = z[:,1]\n",
    "sns.scatterplot(x=\"comp-1\", y=\"comp-2\", hue=df.y.tolist(),\n",
    "                palette=sns.color_palette(\"hls\",2 ),\n",
    "                data=df).set(title=\"TSNE\") \n"
   ]
  },
  {
   "cell_type": "code",
   "execution_count": null,
   "id": "8aa6e468",
   "metadata": {},
   "outputs": [],
   "source": [
    "X = X_pca\n",
    "result = cross_valid(LogisticRegression1(),X,y=y)\n",
    "print(\"Mean Accuracy = {}\".format(np.mean(result['accuracy'])))\n",
    "print(\"Mean Precision = {}\".format(np.mean(result['precision'])))\n",
    "print(\"Mean Recall = {}\".format(np.mean(result['recall'])))\n",
    "print(\"Mean F1 = {}\".format(np.mean(result['f1'])))"
   ]
  },
  {
   "cell_type": "code",
   "execution_count": null,
   "id": "44612dbc",
   "metadata": {},
   "outputs": [],
   "source": []
  },
  {
   "cell_type": "code",
   "execution_count": null,
   "id": "73ba47a5",
   "metadata": {},
   "outputs": [],
   "source": []
  }
 ],
 "metadata": {
  "kernelspec": {
   "display_name": "Python 3 (ipykernel)",
   "language": "python",
   "name": "python3"
  },
  "language_info": {
   "codemirror_mode": {
    "name": "ipython",
    "version": 3
   },
   "file_extension": ".py",
   "mimetype": "text/x-python",
   "name": "python",
   "nbconvert_exporter": "python",
   "pygments_lexer": "ipython3",
   "version": "3.9.7"
  }
 },
 "nbformat": 4,
 "nbformat_minor": 5
}
